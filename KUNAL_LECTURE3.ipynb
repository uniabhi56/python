{
 "cells": [
  {
   "cell_type": "markdown",
   "id": "4a31256e",
   "metadata": {},
   "source": [
    "# Exception Handling"
   ]
  },
  {
   "cell_type": "code",
   "execution_count": 5,
   "id": "84c97457",
   "metadata": {},
   "outputs": [
    {
     "name": "stdout",
     "output_type": "stream",
     "text": [
      "1\n",
      "can divide by five\n",
      "This is always executed\n"
     ]
    }
   ],
   "source": [
    "\n",
    "# Python program to demonstrate finally\n",
    "    \n",
    "# No exception Exception raised in try block\n",
    "try:\n",
    "    k = 5//5 # raises divide by zero exception.\n",
    "    print(k)\n",
    "    \n",
    "# handles zerodivision exception    \n",
    "except ZeroDivisionError:   \n",
    "    print(\"Can't divide by zero\")\n",
    "\n",
    "else:\n",
    "    print(\"can divide by five\")\n",
    "        \n",
    "finally:\n",
    "    # this block is always executed \n",
    "    # regardless of exception generation.\n",
    "    print('This is always executed')"
   ]
  },
  {
   "cell_type": "code",
   "execution_count": 7,
   "id": "bfd0cb73",
   "metadata": {},
   "outputs": [
    {
     "name": "stdout",
     "output_type": "stream",
     "text": [
      "Can't divide by zero\n",
      "This is always executed\n"
     ]
    }
   ],
   "source": [
    "\n",
    "# Python program to demonstrate finally\n",
    "    \n",
    "# No exception Exception raised in try block\n",
    "try:\n",
    "    k = 5//0 # raises divide by zero exception.\n",
    "    print(k)\n",
    "    \n",
    "# handles zerodivision exception    \n",
    "except ZeroDivisionError:   \n",
    "    print(\"Can't divide by zero\")\n",
    "\n",
    "else:\n",
    "    print(\"can divide by zero\")\n",
    "        \n",
    "finally:\n",
    "    # this block is always executed \n",
    "    # regardless of exception generation.\n",
    "    print('This is always executed')"
   ]
  },
  {
   "cell_type": "code",
   "execution_count": null,
   "id": "d20a44ad",
   "metadata": {},
   "outputs": [],
   "source": []
  },
  {
   "cell_type": "markdown",
   "id": "012b4b03",
   "metadata": {},
   "source": [
    "# Decorators"
   ]
  },
  {
   "cell_type": "code",
   "execution_count": 10,
   "id": "e745850e",
   "metadata": {},
   "outputs": [],
   "source": [
    "## decorators are just function that takes another function as an argument add some functionality to it and returns the function all these should be done without altering the body of the current function"
   ]
  },
  {
   "cell_type": "code",
   "execution_count": 11,
   "id": "c4d4858b",
   "metadata": {},
   "outputs": [],
   "source": [
    "## In Python, functions are first class objects which means that functions in Python can be used or passed as arguments."
   ]
  },
  {
   "cell_type": "code",
   "execution_count": 29,
   "id": "ac55f3cf",
   "metadata": {},
   "outputs": [],
   "source": [
    "def decorator (original):\n",
    "    def wrapper():\n",
    "        print(\"functionality added\")    ## closures\n",
    "        return original()   ##original is free variable bcz not defined but still accesable\n",
    "    return wrapper"
   ]
  },
  {
   "cell_type": "code",
   "execution_count": 30,
   "id": "5885d8ce",
   "metadata": {},
   "outputs": [],
   "source": [
    "def fun():\n",
    "    print(\"Hello world\")"
   ]
  },
  {
   "cell_type": "code",
   "execution_count": 31,
   "id": "1e7a3a5d",
   "metadata": {},
   "outputs": [],
   "source": [
    "fun = decorator(fun)   # fun = wrapper"
   ]
  },
  {
   "cell_type": "code",
   "execution_count": 32,
   "id": "f19cfcb9",
   "metadata": {},
   "outputs": [
    {
     "data": {
      "text/plain": [
       "<function __main__.decorator.<locals>.wrapper()>"
      ]
     },
     "execution_count": 32,
     "metadata": {},
     "output_type": "execute_result"
    }
   ],
   "source": [
    "fun"
   ]
  },
  {
   "cell_type": "code",
   "execution_count": 33,
   "id": "fafd591c",
   "metadata": {},
   "outputs": [
    {
     "name": "stdout",
     "output_type": "stream",
     "text": [
      "functionality added\n",
      "Hello world\n"
     ]
    }
   ],
   "source": [
    "fun()"
   ]
  },
  {
   "cell_type": "code",
   "execution_count": 34,
   "id": "a55e87b2",
   "metadata": {},
   "outputs": [],
   "source": [
    "## same as : preffered way\n",
    "\n",
    "@decorator\n",
    "def fun2():\n",
    "    print(\"Hello World\")"
   ]
  },
  {
   "cell_type": "code",
   "execution_count": 35,
   "id": "f61352d4",
   "metadata": {},
   "outputs": [
    {
     "name": "stdout",
     "output_type": "stream",
     "text": [
      "functionality added\n",
      "Hello World\n"
     ]
    }
   ],
   "source": [
    "fun2()"
   ]
  },
  {
   "cell_type": "code",
   "execution_count": 56,
   "id": "b0d50392",
   "metadata": {},
   "outputs": [],
   "source": [
    "def decorator (original):\n",
    "    def wrapper(*args, **kwargs):\n",
    "        print(f\"This function exceuted before {original.__name__}\")\n",
    "        return original(*args, **kwargs)\n",
    "    return wrapper"
   ]
  },
  {
   "cell_type": "code",
   "execution_count": 57,
   "id": "7fc60525",
   "metadata": {},
   "outputs": [],
   "source": [
    "@decorator \n",
    "def greeting(name, age = 56):\n",
    "    print(f\"Hey {name}, your age is {age}\")"
   ]
  },
  {
   "cell_type": "code",
   "execution_count": 58,
   "id": "9263822c",
   "metadata": {},
   "outputs": [
    {
     "name": "stdout",
     "output_type": "stream",
     "text": [
      "This function exceuted before greeting\n",
      "Hey Kunal kushwaha, your age is 70\n"
     ]
    }
   ],
   "source": [
    "greeting(\"Kunal kushwaha\", 70)"
   ]
  },
  {
   "cell_type": "code",
   "execution_count": 59,
   "id": "bbbaf2d1",
   "metadata": {},
   "outputs": [],
   "source": [
    "## args  - means it can take any number of arguments\n",
    "\n",
    "#kwargs - It is keyword arguments are the default arguments that is going to be taken if you don't pass any arguments over the place"
   ]
  },
  {
   "cell_type": "code",
   "execution_count": 60,
   "id": "ca2545e9",
   "metadata": {},
   "outputs": [],
   "source": [
    "greeting = decorator(greeting)"
   ]
  },
  {
   "cell_type": "code",
   "execution_count": 62,
   "id": "bdc47448",
   "metadata": {},
   "outputs": [
    {
     "name": "stdout",
     "output_type": "stream",
     "text": [
      "This function exceuted before wrapper\n",
      "This function exceuted before greeting\n",
      "Hey Abhishek kumar, your age is 89\n"
     ]
    }
   ],
   "source": [
    "greeting(\"Abhishek kumar\",89)"
   ]
  },
  {
   "cell_type": "markdown",
   "id": "cd8d9ebc",
   "metadata": {},
   "source": [
    "# Decorators with Python"
   ]
  },
  {
   "cell_type": "code",
   "execution_count": 63,
   "id": "562acd6c",
   "metadata": {},
   "outputs": [],
   "source": [
    "## till now used function as decoratorsnow we will use and see classes with decorators"
   ]
  },
  {
   "cell_type": "code",
   "execution_count": 182,
   "id": "32c1ff8f",
   "metadata": {},
   "outputs": [],
   "source": [
    "class Decorator(object):\n",
    "    def __init__(self, original):\n",
    "        self.original = original\n",
    "    \n",
    "    def __call__(self,*args, **kwargs):    ## this is magic function which also acts as wrapper function\n",
    "        print(f\"call exceuted before {self.original.__name__}\")\n",
    "        return self.original(*args, **kwargs)"
   ]
  },
  {
   "cell_type": "code",
   "execution_count": 183,
   "id": "263119f9",
   "metadata": {},
   "outputs": [],
   "source": [
    "@Decorator\n",
    "\n",
    "def display():\n",
    "    print(\"Display chal gay hai na\")"
   ]
  },
  {
   "cell_type": "code",
   "execution_count": 184,
   "id": "c11a7639",
   "metadata": {},
   "outputs": [
    {
     "name": "stdout",
     "output_type": "stream",
     "text": [
      "call exceuted before display\n",
      "Display chal gay hai na\n"
     ]
    }
   ],
   "source": [
    "display()"
   ]
  },
  {
   "cell_type": "code",
   "execution_count": 185,
   "id": "a87b16b6",
   "metadata": {},
   "outputs": [],
   "source": [
    "## this are the two ways we can create decorators"
   ]
  },
  {
   "cell_type": "code",
   "execution_count": 186,
   "id": "e49952e3",
   "metadata": {},
   "outputs": [],
   "source": [
    "@decorator\n",
    "\n",
    "def greeting(name,age):\n",
    "    print(f\"Hello {name}, your age is {age}\")"
   ]
  },
  {
   "cell_type": "code",
   "execution_count": 187,
   "id": "5a207566",
   "metadata": {},
   "outputs": [
    {
     "name": "stdout",
     "output_type": "stream",
     "text": [
      "This function exceuted before greeting\n",
      "Hello Abhishek kumar, your age is 60\n"
     ]
    }
   ],
   "source": [
    "greeting(\"Abhishek kumar\",60)"
   ]
  },
  {
   "cell_type": "code",
   "execution_count": 188,
   "id": "f1688206",
   "metadata": {},
   "outputs": [],
   "source": [
    "class Human:\n",
    "    @staticmethod\n",
    "    def fun():\n",
    "        print(\"This method is common for all the objects\")"
   ]
  },
  {
   "cell_type": "code",
   "execution_count": 189,
   "id": "3d170e5d",
   "metadata": {},
   "outputs": [],
   "source": [
    "Kunal = Human()"
   ]
  },
  {
   "cell_type": "code",
   "execution_count": 190,
   "id": "252282b7",
   "metadata": {},
   "outputs": [
    {
     "name": "stdout",
     "output_type": "stream",
     "text": [
      "This method is common for all the objects\n"
     ]
    }
   ],
   "source": [
    "Human.fun()"
   ]
  },
  {
   "cell_type": "code",
   "execution_count": 191,
   "id": "9f9953b3",
   "metadata": {},
   "outputs": [],
   "source": [
    "## decorators with arguments"
   ]
  },
  {
   "cell_type": "code",
   "execution_count": 192,
   "id": "77ba961d",
   "metadata": {},
   "outputs": [],
   "source": [
    "##create a prefix decorator\n",
    "\n",
    "# use closures"
   ]
  },
  {
   "cell_type": "code",
   "execution_count": 193,
   "id": "fd7c820e",
   "metadata": {},
   "outputs": [],
   "source": [
    "def prefix(prefix):\n",
    "    def decorator(original):\n",
    "        def wrapper():\n",
    "            print(prefix)\n",
    "            return original()\n",
    "        return wrapper\n",
    "    return decorator"
   ]
  },
  {
   "cell_type": "code",
   "execution_count": 194,
   "id": "6411cedb",
   "metadata": {},
   "outputs": [],
   "source": [
    "@prefix(\"Abhishek kumar\")\n",
    "\n",
    "def fun():\n",
    "    print(\"Hello world\")"
   ]
  },
  {
   "cell_type": "code",
   "execution_count": 195,
   "id": "ead014af",
   "metadata": {},
   "outputs": [
    {
     "name": "stdout",
     "output_type": "stream",
     "text": [
      "Abhishek kumar\n",
      "Hello world\n"
     ]
    }
   ],
   "source": [
    "fun()"
   ]
  },
  {
   "cell_type": "code",
   "execution_count": 196,
   "id": "c7385c4a",
   "metadata": {},
   "outputs": [],
   "source": [
    "## this is same as"
   ]
  },
  {
   "cell_type": "code",
   "execution_count": 197,
   "id": "e0043bab",
   "metadata": {},
   "outputs": [
    {
     "name": "stdout",
     "output_type": "stream",
     "text": [
      "Abhi singh\n",
      "Hello World\n"
     ]
    }
   ],
   "source": [
    "def fun():\n",
    "    print(\"Hello World\")\n",
    "\n",
    "deco =  prefix(\"Abhi singh\")\n",
    "\n",
    "fun = deco(fun)\n",
    "fun()"
   ]
  },
  {
   "cell_type": "code",
   "execution_count": 198,
   "id": "f2a5ebe1",
   "metadata": {},
   "outputs": [],
   "source": [
    "## __init__ vs __call__"
   ]
  },
  {
   "cell_type": "code",
   "execution_count": 199,
   "id": "95c8702b",
   "metadata": {},
   "outputs": [],
   "source": [
    "class A:\n",
    "    def __init__(self):\n",
    "        print(\"Constructor call ho gaya\")\n",
    "        \n",
    "    def __call__(self):\n",
    "        print(\"call called\")"
   ]
  },
  {
   "cell_type": "code",
   "execution_count": 200,
   "id": "2c2bbfcc",
   "metadata": {},
   "outputs": [
    {
     "name": "stdout",
     "output_type": "stream",
     "text": [
      "Constructor call ho gaya\n"
     ]
    }
   ],
   "source": [
    "a = A()"
   ]
  },
  {
   "cell_type": "code",
   "execution_count": 201,
   "id": "94c220b4",
   "metadata": {},
   "outputs": [
    {
     "name": "stdout",
     "output_type": "stream",
     "text": [
      "call called\n"
     ]
    }
   ],
   "source": [
    "a()"
   ]
  },
  {
   "cell_type": "code",
   "execution_count": 202,
   "id": "46b91902",
   "metadata": {},
   "outputs": [],
   "source": [
    "def Human(object):\n",
    "    def __init__(self,name):\n",
    "        self.name = name\n",
    "        print(self.name)\n",
    "        \n",
    "    def __call__(self,name):\n",
    "        self.name = name\n",
    "        print(self.name)"
   ]
  },
  {
   "cell_type": "code",
   "execution_count": 203,
   "id": "32d9da87",
   "metadata": {},
   "outputs": [],
   "source": [
    "kunal = Human(\"kunal\")"
   ]
  },
  {
   "cell_type": "code",
   "execution_count": 204,
   "id": "794acab1",
   "metadata": {},
   "outputs": [
    {
     "ename": "TypeError",
     "evalue": "'NoneType' object is not callable",
     "output_type": "error",
     "traceback": [
      "\u001b[1;31m---------------------------------------------------------------------------\u001b[0m",
      "\u001b[1;31mTypeError\u001b[0m                                 Traceback (most recent call last)",
      "\u001b[1;32m~\\AppData\\Local\\Temp/ipykernel_11840/3387445935.py\u001b[0m in \u001b[0;36m<module>\u001b[1;34m\u001b[0m\n\u001b[1;32m----> 1\u001b[1;33m \u001b[0mkunal\u001b[0m\u001b[1;33m(\u001b[0m\u001b[1;34m\"Kunal 2.0\"\u001b[0m\u001b[1;33m)\u001b[0m   \u001b[1;31m## instance variables calls like a fxn using __call__\u001b[0m\u001b[1;33m\u001b[0m\u001b[1;33m\u001b[0m\u001b[0m\n\u001b[0m",
      "\u001b[1;31mTypeError\u001b[0m: 'NoneType' object is not callable"
     ]
    }
   ],
   "source": [
    "kunal(\"Kunal 2.0\")   ## instance variables calls like a fxn using __call__"
   ]
  },
  {
   "cell_type": "code",
   "execution_count": 205,
   "id": "0e1ea45c",
   "metadata": {},
   "outputs": [],
   "source": [
    "## ___init__(inbuilt fnx in python bcz dendors age and ppiche init ke) = always creates new objects and allocate new memory "
   ]
  },
  {
   "cell_type": "code",
   "execution_count": 206,
   "id": "cdae14a0",
   "metadata": {},
   "outputs": [],
   "source": [
    "## __call__ = magic method or instance variables calls like a fxn using  __call__"
   ]
  },
  {
   "cell_type": "code",
   "execution_count": 207,
   "id": "9164f91d",
   "metadata": {},
   "outputs": [],
   "source": [
    "## del"
   ]
  },
  {
   "cell_type": "code",
   "execution_count": 258,
   "id": "3cb01b96",
   "metadata": {},
   "outputs": [],
   "source": [
    "class A:\n",
    "    def __init__(self):\n",
    "        print(\"constructor call ho gaya\")\n",
    "        \n",
    "    def __del__(self):   # del is dereferencing the variables\n",
    "        print(\"De-refernce ho gaya\")\n",
    "        \n",
    "    def __repr__(self):\n",
    "        return \"some object\""
   ]
  },
  {
   "cell_type": "code",
   "execution_count": 259,
   "id": "92e94240",
   "metadata": {},
   "outputs": [
    {
     "name": "stdout",
     "output_type": "stream",
     "text": [
      "constructor call ho gaya\n"
     ]
    }
   ],
   "source": [
    "obj = A()"
   ]
  },
  {
   "cell_type": "code",
   "execution_count": 260,
   "id": "356c87ce",
   "metadata": {},
   "outputs": [
    {
     "name": "stdout",
     "output_type": "stream",
     "text": [
      "De-refernce ho gaya\n"
     ]
    }
   ],
   "source": [
    "del(obj)"
   ]
  },
  {
   "cell_type": "code",
   "execution_count": 261,
   "id": "c9b5a167",
   "metadata": {},
   "outputs": [
    {
     "name": "stdout",
     "output_type": "stream",
     "text": [
      "constructor call ho gaya\n"
     ]
    }
   ],
   "source": [
    "obj2 = A()"
   ]
  },
  {
   "cell_type": "code",
   "execution_count": 262,
   "id": "1e4e963d",
   "metadata": {},
   "outputs": [
    {
     "data": {
      "text/plain": [
       "some object"
      ]
     },
     "execution_count": 262,
     "metadata": {},
     "output_type": "execute_result"
    }
   ],
   "source": [
    "obj2"
   ]
  },
  {
   "cell_type": "code",
   "execution_count": 263,
   "id": "9f978d0e",
   "metadata": {},
   "outputs": [],
   "source": [
    "del(obj2)"
   ]
  },
  {
   "cell_type": "code",
   "execution_count": 264,
   "id": "b16a1080",
   "metadata": {},
   "outputs": [
    {
     "data": {
      "text/plain": [
       "some object"
      ]
     },
     "execution_count": 264,
     "metadata": {},
     "output_type": "execute_result"
    }
   ],
   "source": [
    "_   ##(- or underscore ) - stores the recent value"
   ]
  },
  {
   "cell_type": "code",
   "execution_count": 265,
   "id": "0ff12a30",
   "metadata": {},
   "outputs": [
    {
     "data": {
      "text/plain": [
       "10"
      ]
     },
     "execution_count": 265,
     "metadata": {},
     "output_type": "execute_result"
    }
   ],
   "source": [
    "10"
   ]
  },
  {
   "cell_type": "code",
   "execution_count": 266,
   "id": "de10374c",
   "metadata": {},
   "outputs": [
    {
     "data": {
      "text/plain": [
       "10"
      ]
     },
     "execution_count": 266,
     "metadata": {},
     "output_type": "execute_result"
    }
   ],
   "source": [
    "_"
   ]
  },
  {
   "cell_type": "code",
   "execution_count": 267,
   "id": "6fbc7c5a",
   "metadata": {},
   "outputs": [
    {
     "name": "stdout",
     "output_type": "stream",
     "text": [
      "constructor call ho gaya\n"
     ]
    }
   ],
   "source": [
    "a = A()"
   ]
  },
  {
   "cell_type": "code",
   "execution_count": 268,
   "id": "8bc425dd",
   "metadata": {},
   "outputs": [],
   "source": [
    "b = a"
   ]
  },
  {
   "cell_type": "code",
   "execution_count": 269,
   "id": "9c25279a",
   "metadata": {},
   "outputs": [],
   "source": [
    "del(A)"
   ]
  },
  {
   "cell_type": "code",
   "execution_count": 270,
   "id": "f0e2e076",
   "metadata": {},
   "outputs": [
    {
     "data": {
      "text/plain": [
       "some object"
      ]
     },
     "execution_count": 270,
     "metadata": {},
     "output_type": "execute_result"
    }
   ],
   "source": [
    "b"
   ]
  },
  {
   "cell_type": "code",
   "execution_count": 271,
   "id": "9b8cffb8",
   "metadata": {},
   "outputs": [],
   "source": [
    "del(b)"
   ]
  },
  {
   "cell_type": "code",
   "execution_count": 272,
   "id": "3884cbb1",
   "metadata": {},
   "outputs": [
    {
     "ename": "NameError",
     "evalue": "name 'b' is not defined",
     "output_type": "error",
     "traceback": [
      "\u001b[1;31m---------------------------------------------------------------------------\u001b[0m",
      "\u001b[1;31mNameError\u001b[0m                                 Traceback (most recent call last)",
      "\u001b[1;32m~\\AppData\\Local\\Temp/ipykernel_11840/1685013873.py\u001b[0m in \u001b[0;36m<module>\u001b[1;34m\u001b[0m\n\u001b[1;32m----> 1\u001b[1;33m \u001b[0mb\u001b[0m\u001b[1;33m\u001b[0m\u001b[1;33m\u001b[0m\u001b[0m\n\u001b[0m",
      "\u001b[1;31mNameError\u001b[0m: name 'b' is not defined"
     ]
    }
   ],
   "source": [
    "b"
   ]
  },
  {
   "cell_type": "code",
   "execution_count": 4,
   "id": "1927be40",
   "metadata": {},
   "outputs": [],
   "source": [
    "a = [1,2,4,5]"
   ]
  },
  {
   "cell_type": "code",
   "execution_count": 8,
   "id": "7d584dcb",
   "metadata": {},
   "outputs": [
    {
     "name": "stdout",
     "output_type": "stream",
     "text": [
      "1\n",
      "2\n",
      "4\n",
      "5\n"
     ]
    }
   ],
   "source": [
    "for i in a:\n",
    "    print(i)   ## if i can iterate over the elemnets of particular object then object is iterable.Here list is an iterable"
   ]
  },
  {
   "cell_type": "code",
   "execution_count": 9,
   "id": "caa5cbb9",
   "metadata": {},
   "outputs": [],
   "source": [
    "## most of then built in python containers like - list, tuple, string are iterable"
   ]
  },
  {
   "cell_type": "code",
   "execution_count": 11,
   "id": "b19251bd",
   "metadata": {},
   "outputs": [
    {
     "data": {
      "text/plain": [
       "['__add__',\n",
       " '__class__',\n",
       " '__class_getitem__',\n",
       " '__contains__',\n",
       " '__delattr__',\n",
       " '__delitem__',\n",
       " '__dir__',\n",
       " '__doc__',\n",
       " '__eq__',\n",
       " '__format__',\n",
       " '__ge__',\n",
       " '__getattribute__',\n",
       " '__getitem__',\n",
       " '__gt__',\n",
       " '__hash__',\n",
       " '__iadd__',\n",
       " '__imul__',\n",
       " '__init__',\n",
       " '__init_subclass__',\n",
       " '__iter__',\n",
       " '__le__',\n",
       " '__len__',\n",
       " '__lt__',\n",
       " '__mul__',\n",
       " '__ne__',\n",
       " '__new__',\n",
       " '__reduce__',\n",
       " '__reduce_ex__',\n",
       " '__repr__',\n",
       " '__reversed__',\n",
       " '__rmul__',\n",
       " '__setattr__',\n",
       " '__setitem__',\n",
       " '__sizeof__',\n",
       " '__str__',\n",
       " '__subclasshook__',\n",
       " 'append',\n",
       " 'clear',\n",
       " 'copy',\n",
       " 'count',\n",
       " 'extend',\n",
       " 'index',\n",
       " 'insert',\n",
       " 'pop',\n",
       " 'remove',\n",
       " 'reverse',\n",
       " 'sort']"
      ]
     },
     "execution_count": 11,
     "metadata": {},
     "output_type": "execute_result"
    }
   ],
   "source": [
    "dir(a)   #all these methods i can perform over list iterable elements"
   ]
  },
  {
   "cell_type": "code",
   "execution_count": 12,
   "id": "a637fd8f",
   "metadata": {},
   "outputs": [],
   "source": [
    "t = (1,2,3,4,)"
   ]
  },
  {
   "cell_type": "code",
   "execution_count": 13,
   "id": "d3593f0a",
   "metadata": {},
   "outputs": [
    {
     "data": {
      "text/plain": [
       "['__add__',\n",
       " '__class__',\n",
       " '__class_getitem__',\n",
       " '__contains__',\n",
       " '__delattr__',\n",
       " '__dir__',\n",
       " '__doc__',\n",
       " '__eq__',\n",
       " '__format__',\n",
       " '__ge__',\n",
       " '__getattribute__',\n",
       " '__getitem__',\n",
       " '__getnewargs__',\n",
       " '__gt__',\n",
       " '__hash__',\n",
       " '__init__',\n",
       " '__init_subclass__',\n",
       " '__iter__',\n",
       " '__le__',\n",
       " '__len__',\n",
       " '__lt__',\n",
       " '__mul__',\n",
       " '__ne__',\n",
       " '__new__',\n",
       " '__reduce__',\n",
       " '__reduce_ex__',\n",
       " '__repr__',\n",
       " '__rmul__',\n",
       " '__setattr__',\n",
       " '__sizeof__',\n",
       " '__str__',\n",
       " '__subclasshook__',\n",
       " 'count',\n",
       " 'index']"
      ]
     },
     "execution_count": 13,
     "metadata": {},
     "output_type": "execute_result"
    }
   ],
   "source": [
    "dir(t)"
   ]
  },
  {
   "cell_type": "code",
   "execution_count": 14,
   "id": "89c41729",
   "metadata": {},
   "outputs": [],
   "source": [
    "## iterable = an object from which i can get iterator.\n",
    "## iterator = an object that can be iterated upon."
   ]
  },
  {
   "cell_type": "code",
   "execution_count": 15,
   "id": "755a57e9",
   "metadata": {},
   "outputs": [],
   "source": [
    "##   a = [1,2,3,4] = first i need to convert list into iterator then going to use for loop on that.\n",
    "\n",
    "## use can create iterator using an iterable"
   ]
  },
  {
   "cell_type": "code",
   "execution_count": 18,
   "id": "b1bf6b56",
   "metadata": {},
   "outputs": [],
   "source": [
    "it= iter(a)\n",
    "##this is same as\n",
    "\n",
    "it = a.__iter__()"
   ]
  },
  {
   "cell_type": "code",
   "execution_count": 19,
   "id": "21937fdd",
   "metadata": {},
   "outputs": [
    {
     "data": {
      "text/plain": [
       "list_iterator"
      ]
     },
     "execution_count": 19,
     "metadata": {},
     "output_type": "execute_result"
    }
   ],
   "source": [
    "type(it)"
   ]
  },
  {
   "cell_type": "code",
   "execution_count": 20,
   "id": "44f0c871",
   "metadata": {},
   "outputs": [
    {
     "data": {
      "text/plain": [
       "1"
      ]
     },
     "execution_count": 20,
     "metadata": {},
     "output_type": "execute_result"
    }
   ],
   "source": [
    "next(it)"
   ]
  },
  {
   "cell_type": "code",
   "execution_count": 21,
   "id": "a6a45d44",
   "metadata": {},
   "outputs": [
    {
     "data": {
      "text/plain": [
       "2"
      ]
     },
     "execution_count": 21,
     "metadata": {},
     "output_type": "execute_result"
    }
   ],
   "source": [
    "next(it)"
   ]
  },
  {
   "cell_type": "code",
   "execution_count": 22,
   "id": "726b6bbc",
   "metadata": {},
   "outputs": [
    {
     "data": {
      "text/plain": [
       "4"
      ]
     },
     "execution_count": 22,
     "metadata": {},
     "output_type": "execute_result"
    }
   ],
   "source": [
    "next(it)"
   ]
  },
  {
   "cell_type": "code",
   "execution_count": 33,
   "id": "7c57b2ef",
   "metadata": {},
   "outputs": [
    {
     "ename": "StopIteration",
     "evalue": "",
     "output_type": "error",
     "traceback": [
      "\u001b[1;31m---------------------------------------------------------------------------\u001b[0m",
      "\u001b[1;31mStopIteration\u001b[0m                             Traceback (most recent call last)",
      "\u001b[1;32m~\\AppData\\Local\\Temp/ipykernel_13792/1856630479.py\u001b[0m in \u001b[0;36m<module>\u001b[1;34m\u001b[0m\n\u001b[0;32m      1\u001b[0m \u001b[1;31m## or can do same\u001b[0m\u001b[1;33m\u001b[0m\u001b[1;33m\u001b[0m\u001b[0m\n\u001b[0;32m      2\u001b[0m \u001b[1;33m\u001b[0m\u001b[0m\n\u001b[1;32m----> 3\u001b[1;33m \u001b[0mit\u001b[0m\u001b[1;33m.\u001b[0m\u001b[0m__next__\u001b[0m\u001b[1;33m(\u001b[0m\u001b[1;33m)\u001b[0m\u001b[1;33m\u001b[0m\u001b[1;33m\u001b[0m\u001b[0m\n\u001b[0m",
      "\u001b[1;31mStopIteration\u001b[0m: "
     ]
    }
   ],
   "source": [
    "## or can do same\n",
    "\n",
    "it.__next__()"
   ]
  },
  {
   "cell_type": "code",
   "execution_count": 27,
   "id": "c03dc1d1",
   "metadata": {},
   "outputs": [
    {
     "ename": "StopIteration",
     "evalue": "",
     "output_type": "error",
     "traceback": [
      "\u001b[1;31m---------------------------------------------------------------------------\u001b[0m",
      "\u001b[1;31mStopIteration\u001b[0m                             Traceback (most recent call last)",
      "\u001b[1;32m~\\AppData\\Local\\Temp/ipykernel_13792/3568297680.py\u001b[0m in \u001b[0;36m<module>\u001b[1;34m\u001b[0m\n\u001b[1;32m----> 1\u001b[1;33m \u001b[0mit\u001b[0m\u001b[1;33m.\u001b[0m\u001b[0m__next__\u001b[0m\u001b[1;33m(\u001b[0m\u001b[1;33m)\u001b[0m  \u001b[1;31m# for loop ended sare elemnts padh liye h for loop ke aab kuch bacha nhi h padhne ko\u001b[0m\u001b[1;33m\u001b[0m\u001b[1;33m\u001b[0m\u001b[0m\n\u001b[0m",
      "\u001b[1;31mStopIteration\u001b[0m: "
     ]
    }
   ],
   "source": [
    "it.__next__()  # for loop ended sare elemnts padh liye h for loop ke aab kuch bacha nhi h padhne ko"
   ]
  },
  {
   "cell_type": "code",
   "execution_count": 32,
   "id": "e6345866",
   "metadata": {},
   "outputs": [],
   "source": [
    "for i in it:\n",
    "    print(i)"
   ]
  },
  {
   "cell_type": "code",
   "execution_count": 34,
   "id": "4d3b0906",
   "metadata": {},
   "outputs": [],
   "source": [
    "b = [23,45,78,84]"
   ]
  },
  {
   "cell_type": "code",
   "execution_count": 37,
   "id": "45257cb3",
   "metadata": {},
   "outputs": [
    {
     "name": "stdout",
     "output_type": "stream",
     "text": [
      "23\n",
      "45\n",
      "78\n",
      "84\n"
     ]
    }
   ],
   "source": [
    "## b = iter(b)\n",
    "\n",
    "for num in b:\n",
    "    print(num)"
   ]
  },
  {
   "cell_type": "code",
   "execution_count": 39,
   "id": "4163ec4b",
   "metadata": {},
   "outputs": [],
   "source": [
    "class PT:    ## using iterator same we thing power code  we done below using generator in one line\n",
    "    def __init__(self,max=0):\n",
    "        self.max= max\n",
    "        \n",
    "    def __iter__(self):\n",
    "        self.n = 0\n",
    "        return self #very important\n",
    "    \n",
    "    def __next__(self):\n",
    "        if self.n<=self.max:\n",
    "            result = 2**self.n\n",
    "            self.n+=1\n",
    "            return result\n",
    "        else:\n",
    "            raise StopIteration"
   ]
  },
  {
   "cell_type": "code",
   "execution_count": 44,
   "id": "bbbac687",
   "metadata": {},
   "outputs": [],
   "source": [
    "a = PT(4)"
   ]
  },
  {
   "cell_type": "code",
   "execution_count": 45,
   "id": "20d12a5a",
   "metadata": {},
   "outputs": [],
   "source": [
    "a = iter(a)"
   ]
  },
  {
   "cell_type": "code",
   "execution_count": 46,
   "id": "7f0e1a04",
   "metadata": {},
   "outputs": [
    {
     "data": {
      "text/plain": [
       "1"
      ]
     },
     "execution_count": 46,
     "metadata": {},
     "output_type": "execute_result"
    }
   ],
   "source": [
    "next(a)"
   ]
  },
  {
   "cell_type": "code",
   "execution_count": 47,
   "id": "0de77dab",
   "metadata": {},
   "outputs": [
    {
     "data": {
      "text/plain": [
       "2"
      ]
     },
     "execution_count": 47,
     "metadata": {},
     "output_type": "execute_result"
    }
   ],
   "source": [
    "next(a)"
   ]
  },
  {
   "cell_type": "code",
   "execution_count": 51,
   "id": "90f60d80",
   "metadata": {},
   "outputs": [
    {
     "data": {
      "text/plain": [
       "16"
      ]
     },
     "execution_count": 51,
     "metadata": {},
     "output_type": "execute_result"
    }
   ],
   "source": [
    "next(a)"
   ]
  },
  {
   "cell_type": "markdown",
   "id": "b43f1609",
   "metadata": {},
   "source": [
    "# Generators"
   ]
  },
  {
   "cell_type": "code",
   "execution_count": 52,
   "id": "6b6c3485",
   "metadata": {},
   "outputs": [],
   "source": [
    "## simpler way of creating iterators"
   ]
  },
  {
   "cell_type": "code",
   "execution_count": 53,
   "id": "4e4e2ce2",
   "metadata": {},
   "outputs": [],
   "source": [
    "## it returns an iterators upon which we can iterate upon"
   ]
  },
  {
   "cell_type": "code",
   "execution_count": 54,
   "id": "6cf7beb1",
   "metadata": {},
   "outputs": [],
   "source": [
    "## yield = works like the return statement"
   ]
  },
  {
   "cell_type": "code",
   "execution_count": 68,
   "id": "1077004d",
   "metadata": {},
   "outputs": [],
   "source": [
    "## why yield is efficient??\n",
    "## It does not hold all the values in memory\n",
    "## It is just going to store th state of the memory\n",
    "## you need not to be worry about error handling"
   ]
  },
  {
   "cell_type": "code",
   "execution_count": 57,
   "id": "b0c17b16",
   "metadata": {},
   "outputs": [],
   "source": [
    "## in iterator or iterables a = [1,2,3] it stores all the values in memory but "
   ]
  },
  {
   "cell_type": "code",
   "execution_count": 58,
   "id": "496e1c8f",
   "metadata": {},
   "outputs": [],
   "source": [
    "##   a = [1,2,3]  ## when you run it does not print entirely it run one by one in Yield"
   ]
  },
  {
   "cell_type": "code",
   "execution_count": 59,
   "id": "73fc5bd4",
   "metadata": {},
   "outputs": [],
   "source": [
    "def square(nums):    \n",
    "    for i in nums:\n",
    "        yield (i*i)"
   ]
  },
  {
   "cell_type": "code",
   "execution_count": 60,
   "id": "09021cc1",
   "metadata": {},
   "outputs": [],
   "source": [
    "obj = square([1,2,3,4,5])"
   ]
  },
  {
   "cell_type": "code",
   "execution_count": 61,
   "id": "4abcdc5d",
   "metadata": {},
   "outputs": [
    {
     "data": {
      "text/plain": [
       "1"
      ]
     },
     "execution_count": 61,
     "metadata": {},
     "output_type": "execute_result"
    }
   ],
   "source": [
    "next(obj)"
   ]
  },
  {
   "cell_type": "code",
   "execution_count": 74,
   "id": "35cb2e3a",
   "metadata": {},
   "outputs": [
    {
     "data": {
      "text/plain": [
       "generator"
      ]
     },
     "execution_count": 74,
     "metadata": {},
     "output_type": "execute_result"
    }
   ],
   "source": [
    "type(obj)"
   ]
  },
  {
   "cell_type": "code",
   "execution_count": 62,
   "id": "955cedfd",
   "metadata": {},
   "outputs": [
    {
     "data": {
      "text/plain": [
       "4"
      ]
     },
     "execution_count": 62,
     "metadata": {},
     "output_type": "execute_result"
    }
   ],
   "source": [
    "next(obj)"
   ]
  },
  {
   "cell_type": "code",
   "execution_count": 64,
   "id": "6faffd33",
   "metadata": {},
   "outputs": [
    {
     "data": {
      "text/plain": [
       "16"
      ]
     },
     "execution_count": 64,
     "metadata": {},
     "output_type": "execute_result"
    }
   ],
   "source": [
    "next(obj)"
   ]
  },
  {
   "cell_type": "code",
   "execution_count": 67,
   "id": "15d5d039",
   "metadata": {},
   "outputs": [
    {
     "ename": "StopIteration",
     "evalue": "",
     "output_type": "error",
     "traceback": [
      "\u001b[1;31m---------------------------------------------------------------------------\u001b[0m",
      "\u001b[1;31mStopIteration\u001b[0m                             Traceback (most recent call last)",
      "\u001b[1;32m~\\AppData\\Local\\Temp/ipykernel_13792/1107728022.py\u001b[0m in \u001b[0;36m<module>\u001b[1;34m\u001b[0m\n\u001b[1;32m----> 1\u001b[1;33m \u001b[0mnext\u001b[0m\u001b[1;33m(\u001b[0m\u001b[0mobj\u001b[0m\u001b[1;33m)\u001b[0m  \u001b[1;31m# for loop ended nothing left after 5\u001b[0m\u001b[1;33m\u001b[0m\u001b[1;33m\u001b[0m\u001b[0m\n\u001b[0m",
      "\u001b[1;31mStopIteration\u001b[0m: "
     ]
    }
   ],
   "source": [
    "next(obj)  # for loop ended nothing left after 5"
   ]
  },
  {
   "cell_type": "code",
   "execution_count": 69,
   "id": "e9ef5319",
   "metadata": {},
   "outputs": [],
   "source": [
    "## Create Generators in one line:"
   ]
  },
  {
   "cell_type": "code",
   "execution_count": 82,
   "id": "a750a5e7",
   "metadata": {},
   "outputs": [],
   "source": [
    "obj = (num * num for num in [1,2,3,4,5,6])     ## using Generator"
   ]
  },
  {
   "cell_type": "code",
   "execution_count": 72,
   "id": "1a3f2f9e",
   "metadata": {},
   "outputs": [
    {
     "data": {
      "text/plain": [
       "generator"
      ]
     },
     "execution_count": 72,
     "metadata": {},
     "output_type": "execute_result"
    }
   ],
   "source": [
    "type(obj)"
   ]
  },
  {
   "cell_type": "code",
   "execution_count": 75,
   "id": "a9212879",
   "metadata": {},
   "outputs": [
    {
     "data": {
      "text/plain": [
       "1"
      ]
     },
     "execution_count": 75,
     "metadata": {},
     "output_type": "execute_result"
    }
   ],
   "source": [
    "next(obj)"
   ]
  },
  {
   "cell_type": "code",
   "execution_count": 76,
   "id": "266e2d6b",
   "metadata": {},
   "outputs": [
    {
     "data": {
      "text/plain": [
       "4"
      ]
     },
     "execution_count": 76,
     "metadata": {},
     "output_type": "execute_result"
    }
   ],
   "source": [
    "next(obj)"
   ]
  },
  {
   "cell_type": "code",
   "execution_count": 77,
   "id": "3b91ff05",
   "metadata": {},
   "outputs": [
    {
     "data": {
      "text/plain": [
       "9"
      ]
     },
     "execution_count": 77,
     "metadata": {},
     "output_type": "execute_result"
    }
   ],
   "source": [
    "next(obj)"
   ]
  },
  {
   "cell_type": "code",
   "execution_count": 78,
   "id": "d7fa6447",
   "metadata": {},
   "outputs": [
    {
     "data": {
      "text/plain": [
       "16"
      ]
     },
     "execution_count": 78,
     "metadata": {},
     "output_type": "execute_result"
    }
   ],
   "source": [
    "next(obj)"
   ]
  },
  {
   "cell_type": "code",
   "execution_count": 81,
   "id": "b8b9466b",
   "metadata": {},
   "outputs": [
    {
     "ename": "StopIteration",
     "evalue": "",
     "output_type": "error",
     "traceback": [
      "\u001b[1;31m---------------------------------------------------------------------------\u001b[0m",
      "\u001b[1;31mStopIteration\u001b[0m                             Traceback (most recent call last)",
      "\u001b[1;32m~\\AppData\\Local\\Temp/ipykernel_13792/2039820234.py\u001b[0m in \u001b[0;36m<module>\u001b[1;34m\u001b[0m\n\u001b[1;32m----> 1\u001b[1;33m \u001b[0mnext\u001b[0m\u001b[1;33m(\u001b[0m\u001b[0mobj\u001b[0m\u001b[1;33m)\u001b[0m\u001b[1;33m\u001b[0m\u001b[1;33m\u001b[0m\u001b[0m\n\u001b[0m",
      "\u001b[1;31mStopIteration\u001b[0m: "
     ]
    }
   ],
   "source": [
    "next(obj)"
   ]
  },
  {
   "cell_type": "code",
   "execution_count": 86,
   "id": "0e95dc24",
   "metadata": {},
   "outputs": [],
   "source": [
    "obj = [num * num for num in [1,2,3,4,5,6]]  #being treated like Iterators"
   ]
  },
  {
   "cell_type": "code",
   "execution_count": 87,
   "id": "e9a57fd7",
   "metadata": {},
   "outputs": [
    {
     "data": {
      "text/plain": [
       "[1, 4, 9, 16, 25, 36]"
      ]
     },
     "execution_count": 87,
     "metadata": {},
     "output_type": "execute_result"
    }
   ],
   "source": [
    "obj   #List Comprehension"
   ]
  },
  {
   "cell_type": "code",
   "execution_count": null,
   "id": "1321df4b",
   "metadata": {},
   "outputs": [],
   "source": []
  }
 ],
 "metadata": {
  "kernelspec": {
   "display_name": "Python 3 (ipykernel)",
   "language": "python",
   "name": "python3"
  },
  "language_info": {
   "codemirror_mode": {
    "name": "ipython",
    "version": 3
   },
   "file_extension": ".py",
   "mimetype": "text/x-python",
   "name": "python",
   "nbconvert_exporter": "python",
   "pygments_lexer": "ipython3",
   "version": "3.9.7"
  }
 },
 "nbformat": 4,
 "nbformat_minor": 5
}
